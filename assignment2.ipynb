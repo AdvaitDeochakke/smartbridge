{
 "cells": [
  {
   "cell_type": "code",
   "execution_count": 1,
   "metadata": {},
   "outputs": [],
   "source": [
    "# Advait Deochakke\n",
    "# SmartBridge AI course\n",
    "# Assignment 2"
   ]
  },
  {
   "cell_type": "code",
   "execution_count": 2,
   "metadata": {},
   "outputs": [],
   "source": [
    "import pandas as pd\n",
    "import numpy as np\n",
    "from sklearn.preprocessing import LabelEncoder, StandardScaler\n",
    "from sklearn.model_selection import train_test_split\n",
    "\n",
    "df = pd.read_csv(\"drug200.csv\")"
   ]
  },
  {
   "cell_type": "code",
   "execution_count": 3,
   "metadata": {},
   "outputs": [
    {
     "data": {
      "text/plain": [
       "Index(['Age', 'Sex', 'BP', 'Cholesterol', 'Na_to_K', 'Drug'], dtype='object')"
      ]
     },
     "execution_count": 3,
     "metadata": {},
     "output_type": "execute_result"
    }
   ],
   "source": [
    "df.columns"
   ]
  },
  {
   "cell_type": "code",
   "execution_count": 4,
   "metadata": {},
   "outputs": [
    {
     "data": {
      "text/html": [
       "<div>\n",
       "<style scoped>\n",
       "    .dataframe tbody tr th:only-of-type {\n",
       "        vertical-align: middle;\n",
       "    }\n",
       "\n",
       "    .dataframe tbody tr th {\n",
       "        vertical-align: top;\n",
       "    }\n",
       "\n",
       "    .dataframe thead th {\n",
       "        text-align: right;\n",
       "    }\n",
       "</style>\n",
       "<table border=\"1\" class=\"dataframe\">\n",
       "  <thead>\n",
       "    <tr style=\"text-align: right;\">\n",
       "      <th></th>\n",
       "      <th>Age</th>\n",
       "      <th>Sex</th>\n",
       "      <th>BP</th>\n",
       "      <th>Cholesterol</th>\n",
       "      <th>Na_to_K</th>\n",
       "      <th>Drug</th>\n",
       "    </tr>\n",
       "  </thead>\n",
       "  <tbody>\n",
       "    <tr>\n",
       "      <th>0</th>\n",
       "      <td>23</td>\n",
       "      <td>F</td>\n",
       "      <td>HIGH</td>\n",
       "      <td>HIGH</td>\n",
       "      <td>25.355</td>\n",
       "      <td>DrugY</td>\n",
       "    </tr>\n",
       "    <tr>\n",
       "      <th>1</th>\n",
       "      <td>47</td>\n",
       "      <td>M</td>\n",
       "      <td>LOW</td>\n",
       "      <td>HIGH</td>\n",
       "      <td>13.093</td>\n",
       "      <td>drugC</td>\n",
       "    </tr>\n",
       "    <tr>\n",
       "      <th>2</th>\n",
       "      <td>47</td>\n",
       "      <td>M</td>\n",
       "      <td>LOW</td>\n",
       "      <td>HIGH</td>\n",
       "      <td>10.114</td>\n",
       "      <td>drugC</td>\n",
       "    </tr>\n",
       "    <tr>\n",
       "      <th>3</th>\n",
       "      <td>28</td>\n",
       "      <td>F</td>\n",
       "      <td>NORMAL</td>\n",
       "      <td>HIGH</td>\n",
       "      <td>7.798</td>\n",
       "      <td>drugX</td>\n",
       "    </tr>\n",
       "    <tr>\n",
       "      <th>4</th>\n",
       "      <td>61</td>\n",
       "      <td>F</td>\n",
       "      <td>LOW</td>\n",
       "      <td>HIGH</td>\n",
       "      <td>18.043</td>\n",
       "      <td>DrugY</td>\n",
       "    </tr>\n",
       "  </tbody>\n",
       "</table>\n",
       "</div>"
      ],
      "text/plain": [
       "   Age Sex      BP Cholesterol  Na_to_K   Drug\n",
       "0   23   F    HIGH        HIGH   25.355  DrugY\n",
       "1   47   M     LOW        HIGH   13.093  drugC\n",
       "2   47   M     LOW        HIGH   10.114  drugC\n",
       "3   28   F  NORMAL        HIGH    7.798  drugX\n",
       "4   61   F     LOW        HIGH   18.043  DrugY"
      ]
     },
     "execution_count": 4,
     "metadata": {},
     "output_type": "execute_result"
    }
   ],
   "source": [
    "df.head(5)"
   ]
  },
  {
   "cell_type": "code",
   "execution_count": 5,
   "metadata": {},
   "outputs": [],
   "source": [
    "# Handle missing values if any\n",
    "df = df.dropna()\n",
    "\n",
    "# Convert categorical variables to numerical format\n",
    "label_encoder = LabelEncoder()\n",
    "df['Sex'] = label_encoder.fit_transform(df['Sex'])\n",
    "df['BP'] = label_encoder.fit_transform(df['BP'])\n",
    "df['Cholesterol'] = label_encoder.fit_transform(df['Cholesterol'])\n",
    "df['Drug'] = label_encoder.fit_transform(df['Drug'])\n",
    "\n",
    "# Normalize numerical features\n",
    "scaler = StandardScaler()\n",
    "df[['Age', 'Na_to_K']] = scaler.fit_transform(df[['Age', 'Na_to_K']])\n",
    "\n",
    "# Split the dataset into input features and labels\n",
    "X = df.drop('Drug', axis=1)\n",
    "y = df['Drug']"
   ]
  },
  {
   "cell_type": "code",
   "execution_count": 6,
   "metadata": {},
   "outputs": [
    {
     "name": "stdout",
     "output_type": "stream",
     "text": [
      "Epoch 1/50\n",
      "7/7 [==============================] - 1s 2ms/step - loss: 1.5850 - accuracy: 0.2650\n",
      "Epoch 2/50\n",
      "7/7 [==============================] - 0s 1ms/step - loss: 1.4287 - accuracy: 0.4950\n",
      "Epoch 3/50\n",
      "7/7 [==============================] - 0s 2ms/step - loss: 1.2718 - accuracy: 0.5950\n",
      "Epoch 4/50\n",
      "7/7 [==============================] - 0s 1ms/step - loss: 1.0919 - accuracy: 0.6500\n",
      "Epoch 5/50\n",
      "7/7 [==============================] - 0s 998us/step - loss: 0.8997 - accuracy: 0.7200\n",
      "Epoch 6/50\n",
      "7/7 [==============================] - 0s 1ms/step - loss: 0.7279 - accuracy: 0.7600\n",
      "Epoch 7/50\n",
      "7/7 [==============================] - 0s 2ms/step - loss: 0.6033 - accuracy: 0.7750\n",
      "Epoch 8/50\n",
      "7/7 [==============================] - 0s 2ms/step - loss: 0.4976 - accuracy: 0.8300\n",
      "Epoch 9/50\n",
      "7/7 [==============================] - 0s 2ms/step - loss: 0.3980 - accuracy: 0.8850\n",
      "Epoch 10/50\n",
      "7/7 [==============================] - 0s 2ms/step - loss: 0.3306 - accuracy: 0.9050\n",
      "Epoch 11/50\n",
      "7/7 [==============================] - 0s 1ms/step - loss: 0.2731 - accuracy: 0.9200\n",
      "Epoch 12/50\n",
      "7/7 [==============================] - 0s 2ms/step - loss: 0.2256 - accuracy: 0.9400\n",
      "Epoch 13/50\n",
      "7/7 [==============================] - 0s 2ms/step - loss: 0.1899 - accuracy: 0.9500\n",
      "Epoch 14/50\n",
      "7/7 [==============================] - 0s 2ms/step - loss: 0.1749 - accuracy: 0.9600\n",
      "Epoch 15/50\n",
      "7/7 [==============================] - 0s 1ms/step - loss: 0.1706 - accuracy: 0.9450\n",
      "Epoch 16/50\n",
      "7/7 [==============================] - 0s 2ms/step - loss: 0.1249 - accuracy: 0.9700\n",
      "Epoch 17/50\n",
      "7/7 [==============================] - 0s 2ms/step - loss: 0.1136 - accuracy: 0.9750\n",
      "Epoch 18/50\n",
      "7/7 [==============================] - 0s 2ms/step - loss: 0.0990 - accuracy: 0.9800\n",
      "Epoch 19/50\n",
      "7/7 [==============================] - 0s 1000us/step - loss: 0.0911 - accuracy: 0.9700\n",
      "Epoch 20/50\n",
      "7/7 [==============================] - 0s 2ms/step - loss: 0.0821 - accuracy: 0.9850\n",
      "Epoch 21/50\n",
      "7/7 [==============================] - 0s 2ms/step - loss: 0.0686 - accuracy: 0.9800\n",
      "Epoch 22/50\n",
      "7/7 [==============================] - 0s 2ms/step - loss: 0.0641 - accuracy: 0.9950\n",
      "Epoch 23/50\n",
      "7/7 [==============================] - 0s 2ms/step - loss: 0.0678 - accuracy: 0.9900\n",
      "Epoch 24/50\n",
      "7/7 [==============================] - 0s 2ms/step - loss: 0.0665 - accuracy: 0.9750\n",
      "Epoch 25/50\n",
      "7/7 [==============================] - 0s 1ms/step - loss: 0.0584 - accuracy: 0.9950\n",
      "Epoch 26/50\n",
      "7/7 [==============================] - 0s 1ms/step - loss: 0.0429 - accuracy: 1.0000\n",
      "Epoch 27/50\n",
      "7/7 [==============================] - 0s 2ms/step - loss: 0.0493 - accuracy: 0.9850\n",
      "Epoch 28/50\n",
      "7/7 [==============================] - 0s 1ms/step - loss: 0.0467 - accuracy: 0.9900\n",
      "Epoch 29/50\n",
      "7/7 [==============================] - 0s 1ms/step - loss: 0.0475 - accuracy: 0.9900\n",
      "Epoch 30/50\n",
      "7/7 [==============================] - 0s 1ms/step - loss: 0.0318 - accuracy: 1.0000\n",
      "Epoch 31/50\n",
      "7/7 [==============================] - 0s 2ms/step - loss: 0.0378 - accuracy: 0.9950\n",
      "Epoch 32/50\n",
      "7/7 [==============================] - 0s 2ms/step - loss: 0.0310 - accuracy: 0.9950\n",
      "Epoch 33/50\n",
      "7/7 [==============================] - 0s 1ms/step - loss: 0.0245 - accuracy: 1.0000\n",
      "Epoch 34/50\n",
      "7/7 [==============================] - 0s 1ms/step - loss: 0.0236 - accuracy: 1.0000\n",
      "Epoch 35/50\n",
      "7/7 [==============================] - 0s 1ms/step - loss: 0.0214 - accuracy: 1.0000\n",
      "Epoch 36/50\n",
      "7/7 [==============================] - 0s 2ms/step - loss: 0.0187 - accuracy: 1.0000\n",
      "Epoch 37/50\n",
      "7/7 [==============================] - 0s 1ms/step - loss: 0.0177 - accuracy: 1.0000\n",
      "Epoch 38/50\n",
      "7/7 [==============================] - 0s 2ms/step - loss: 0.0171 - accuracy: 1.0000\n",
      "Epoch 39/50\n",
      "7/7 [==============================] - 0s 2ms/step - loss: 0.0160 - accuracy: 1.0000\n",
      "Epoch 40/50\n",
      "7/7 [==============================] - 0s 1ms/step - loss: 0.0146 - accuracy: 1.0000\n",
      "Epoch 41/50\n",
      "7/7 [==============================] - 0s 1ms/step - loss: 0.0150 - accuracy: 1.0000\n",
      "Epoch 42/50\n",
      "7/7 [==============================] - 0s 2ms/step - loss: 0.0130 - accuracy: 1.0000\n",
      "Epoch 43/50\n",
      "7/7 [==============================] - 0s 3ms/step - loss: 0.0123 - accuracy: 1.0000\n",
      "Epoch 44/50\n",
      "7/7 [==============================] - 0s 2ms/step - loss: 0.0113 - accuracy: 1.0000\n",
      "Epoch 45/50\n",
      "7/7 [==============================] - 0s 2ms/step - loss: 0.0123 - accuracy: 1.0000\n",
      "Epoch 46/50\n",
      "7/7 [==============================] - 0s 2ms/step - loss: 0.0100 - accuracy: 1.0000\n",
      "Epoch 47/50\n",
      "7/7 [==============================] - 0s 1ms/step - loss: 0.0105 - accuracy: 1.0000\n",
      "Epoch 48/50\n",
      "7/7 [==============================] - 0s 1ms/step - loss: 0.0092 - accuracy: 1.0000\n",
      "Epoch 49/50\n",
      "7/7 [==============================] - 0s 1ms/step - loss: 0.0085 - accuracy: 1.0000\n",
      "Epoch 50/50\n",
      "7/7 [==============================] - 0s 999us/step - loss: 0.0153 - accuracy: 0.9950\n"
     ]
    },
    {
     "data": {
      "text/plain": [
       "<keras.callbacks.History at 0x2103b183a90>"
      ]
     },
     "execution_count": 6,
     "metadata": {},
     "output_type": "execute_result"
    }
   ],
   "source": [
    "from tensorflow import keras\n",
    "from tensorflow.keras import layers\n",
    "\n",
    "# Build the model\n",
    "model = keras.Sequential([\n",
    "    layers.Dense(64, activation='relu', input_shape=(5,)),  # Input layer\n",
    "    layers.Dense(128, activation='relu'),  # Hidden layer 1\n",
    "    layers.Dense(64, activation='relu'),  # Hidden layer 2\n",
    "    layers.Dense(32, activation='relu'),  # Hidden layer 3\n",
    "    layers.Dense(5, activation='softmax')  # Output layer with 5 classes\n",
    "])\n",
    "\n",
    "# Compile the model\n",
    "model.compile(optimizer='adam', loss='sparse_categorical_crossentropy', metrics=['accuracy'])\n",
    "\n",
    "# Train the model\n",
    "model.fit(X, y, epochs=50, batch_size=32)\n"
   ]
  },
  {
   "cell_type": "code",
   "execution_count": 7,
   "metadata": {},
   "outputs": [
    {
     "name": "stdout",
     "output_type": "stream",
     "text": [
      "1/1 [==============================] - 0s 94ms/step\n",
      "Predicted Drug: DrugY\n"
     ]
    },
    {
     "name": "stderr",
     "output_type": "stream",
     "text": [
      "c:\\Users\\advai\\anaconda3\\lib\\site-packages\\sklearn\\base.py:420: UserWarning: X does not have valid feature names, but StandardScaler was fitted with feature names\n",
      "  warnings.warn(\n"
     ]
    }
   ],
   "source": [
    "import numpy as np\n",
    "\n",
    "# Generate random data for testing\n",
    "random_data = np.array([[35, 0, 1, 0, 15.0]])\n",
    "\n",
    "# Preprocess the random data (normalize numerical features)\n",
    "random_data[:, [0, 4]] = scaler.transform(random_data[:, [0, 4]])\n",
    "\n",
    "# Make predictions\n",
    "predictions = model.predict(random_data)\n",
    "predicted_class = np.argmax(predictions[0])\n",
    "\n",
    "# Convert the predicted class back to the original label\n",
    "predicted_drug = label_encoder.inverse_transform([predicted_class])[0]\n",
    "\n",
    "print(\"Predicted Drug:\", predicted_drug)\n"
   ]
  }
 ],
 "metadata": {
  "kernelspec": {
   "display_name": "base",
   "language": "python",
   "name": "python3"
  },
  "language_info": {
   "codemirror_mode": {
    "name": "ipython",
    "version": 3
   },
   "file_extension": ".py",
   "mimetype": "text/x-python",
   "name": "python",
   "nbconvert_exporter": "python",
   "pygments_lexer": "ipython3",
   "version": "3.9.16"
  },
  "orig_nbformat": 4
 },
 "nbformat": 4,
 "nbformat_minor": 2
}
